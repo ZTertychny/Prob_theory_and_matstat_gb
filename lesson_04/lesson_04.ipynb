{
 "cells": [
  {
   "cell_type": "code",
   "execution_count": 8,
   "metadata": {},
   "outputs": [],
   "source": [
    "import numpy as np\n",
    "from IPython.display import Math"
   ]
  },
  {
   "cell_type": "markdown",
   "metadata": {},
   "source": [
    "###  1. Случайная непрерывная величина A имеет равномерное распределение на промежутке (200, 800]. Найдите ее среднее значение и дисперсию."
   ]
  },
  {
   "cell_type": "code",
   "execution_count": 3,
   "metadata": {},
   "outputs": [
    {
     "name": "stdout",
     "output_type": "stream",
     "text": [
      "Среднее значение: 500.0\n",
      "Дисперсия: 30000.0\n"
     ]
    }
   ],
   "source": [
    "# M(X) = (a + b) / 2\n",
    "avg = (200 + 800) / 2\n",
    "\n",
    "# D(X) = ((b - a) ^ 2) / 12\n",
    "disp = ((800 - 200) ** 2) / 12\n",
    "\n",
    "print(f\"Среднее значение: {avg}\\nДисперсия: {disp}\")"
   ]
  },
  {
   "cell_type": "markdown",
   "metadata": {},
   "source": [
    "### 2. О случайной непрерывной равномерно распределенной величине B известно, что ее дисперсия равна 0.2. Можно ли найти правую границу величины B и ее среднее значение зная, что левая граница равна 0.5? Если да, найдите ее."
   ]
  },
  {
   "cell_type": "code",
   "execution_count": 6,
   "metadata": {},
   "outputs": [
    {
     "name": "stdout",
     "output_type": "stream",
     "text": [
      "b = 2.05\n",
      "Среднее значение: 1.27\n"
     ]
    }
   ],
   "source": [
    "var = 0.2\n",
    "a = 0.5\n",
    "\n",
    "b = ((12 * var) ** 0.5) + a\n",
    "mean_val = (a + b) / 2\n",
    "\n",
    "print(f\"b = {b:.2f}\\nСреднее значение: {mean_val:.2f}\")"
   ]
  },
  {
   "cell_type": "markdown",
   "metadata": {},
   "source": [
    "### 3. Непрерывная случайная величина X распределена нормально и задана плотностью распределения f(x) = (1 / (4 * sqrt(2*pi))) * (exp(-((x+2)**2) / 32))    Найдите:\n",
    "а). M(X)                                                                                               \n",
    "б). D(X)                                                                                               \n",
    "в). std(X) (среднее квадратичное отклонение)"
   ]
  },
  {
   "cell_type": "code",
   "execution_count": 63,
   "metadata": {},
   "outputs": [
    {
     "name": "stdout",
     "output_type": "stream",
     "text": [
      "M(X) = 2\n",
      "D(X) = 16\n",
      "std(X) = 4\n"
     ]
    }
   ],
   "source": [
    "Math(r'f(x) = \\frac{1}{\\sigma\\sqrt{2pi}}e^{-\\frac{(x-a)^2}{2\\sigma^2}}')\n",
    "print(f\"M(X) = {2}\\nD(X) = {16}\\nstd(X) = {4}\")"
   ]
  },
  {
   "cell_type": "markdown",
   "metadata": {},
   "source": [
    "### 4. Рост взрослого населения города X имеет нормальное распределение. Причем, средний рост равен 174 см, а среднее квадратичное отклонение равно 8 см. Какова вероятность того, что случайным образом выбранный взрослый человек имеет рост:\n",
    "а). больше 182 см<br>\n",
    "б). больше 190 см<br>\n",
    "в). от 166 см до 190 см<br>\n",
    "г). от 166 см до 182 см<br>\n",
    "д). от 158 см до 190 см<br>\n",
    "е). не выше 150 см или не ниже 190 см<br>\n",
    "ё). не выше 150 см или не ниже 198 см<br>\n",
    "ж). ниже 166 см.<br>"
   ]
  },
  {
   "cell_type": "code",
   "execution_count": 87,
   "metadata": {},
   "outputs": [
    {
     "name": "stdout",
     "output_type": "stream",
     "text": [
      "Больше 182 0.16\n",
      "Больше 190 0.02\n",
      "Между 166 и 190 0.82\n",
      "Между 166 и 182 0.68\n",
      "Между 158 и 190 0.95\n",
      "Не выше 150 см или не ниже 190 см 0.02\n",
      "Не выше 150 см или не ниже 198 см 0.0027\n",
      "Ниже 166 см: 0.16\n"
     ]
    }
   ],
   "source": [
    "# mu = 174, std = 8 => надо сделать масштаб \n",
    "# а) больше 182\n",
    "z1sigm = (182 - 174) / 8\n",
    "z182 = 0.8413 # по таблице \n",
    "higher182 = 1 - z182\n",
    "print(f\"Больше 182 {higher182:.2f}\")\n",
    "\n",
    "# б) больше 190\n",
    "z2sigm = (190 - 174) / 8\n",
    "z190 = 0.9772\n",
    "higher190 = 1 - z2\n",
    "print(f\"Больше 190 {higher190:.2f}\")\n",
    "\n",
    "# в) от 166 см до 190 см\n",
    "z166sigm = (166 - 174) / 8\n",
    "z166 = \t0.1586\n",
    "z166_and_190 = z190 - z166\n",
    "print(f\"Между 166 и 190 {z166_and_190:.2f}\")\n",
    "\n",
    "# г) от 166 см до 182 см\n",
    "z166_and_182 = z182 - z166\n",
    "print(f\"Между 166 и 182 {z166_and_182:.2f}\")\n",
    "\n",
    "# д) от 158 см до 190 см\n",
    "z5sigm = (158 - 174) / 8\n",
    "z158 = \t0.0227\n",
    "z158_and_190 = z190 - z158\n",
    "print(f\"Между 158 и 190 {z158_and_190:.2f}\")\n",
    "\n",
    "# е) не выше 150 см или не ниже 190 см\n",
    "z150sigm = (150 - 174) / 8\n",
    "z150 = 0.0013\n",
    "lower150 = z150\n",
    "res_e = lower150 + higher190\n",
    "print(f\"Не выше 150 см или не ниже 190 см {res_e:.2f}\")\n",
    "\n",
    "# ё) не выше 150 см или не ниже 198 см \n",
    "z198sigm = (198 - 174) / 8\n",
    "z198 = \t0.9986\n",
    "higher_198 = 1 - z198\n",
    "res_yo = lower150 + higher_198\n",
    "print(f\"Не выше 150 см или не ниже 198 см {res_yo:.4f}\")\n",
    "\n",
    "# ж) ниже 166 см\n",
    "z166sigm = (166 - 174) / 8\n",
    "z166 = 0.1586\n",
    "print(f\"Ниже 166 см: {z166:.2f}\")"
   ]
  },
  {
   "cell_type": "markdown",
   "metadata": {},
   "source": [
    "### 5. На сколько сигм (средних квадратичных отклонений) отклоняется рост человека, равный 190 см, от математического ожидания роста в популяции, в которой M(X) = 178 см и D(X) = 25 кв.см?"
   ]
  },
  {
   "cell_type": "code",
   "execution_count": 88,
   "metadata": {},
   "outputs": [
    {
     "name": "stdout",
     "output_type": "stream",
     "text": [
      "На 2.4 сигм\n"
     ]
    }
   ],
   "source": [
    "res_5 = (190 - 178) / 5\n",
    "print(f\"На {res_5} сигм\")"
   ]
  }
 ],
 "metadata": {
  "kernelspec": {
   "display_name": "Python 3",
   "language": "python",
   "name": "python3"
  },
  "language_info": {
   "codemirror_mode": {
    "name": "ipython",
    "version": 3
   },
   "file_extension": ".py",
   "mimetype": "text/x-python",
   "name": "python",
   "nbconvert_exporter": "python",
   "pygments_lexer": "ipython3",
   "version": "3.8.5"
  }
 },
 "nbformat": 4,
 "nbformat_minor": 4
}
