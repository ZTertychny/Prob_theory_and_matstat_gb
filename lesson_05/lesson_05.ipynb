{
 "cells": [
  {
   "cell_type": "code",
   "execution_count": 1,
   "metadata": {},
   "outputs": [],
   "source": [
    "import numpy as np"
   ]
  },
  {
   "cell_type": "markdown",
   "metadata": {},
   "source": [
    "#### 1. Известно, что генеральная совокупность распределена нормально со средним квадратическим отклонением, равным 16. Найти доверительный интервал для оценки математического ожидания a с надежностью 0.95, если выборочная средняя M = 80, а объем выборки n = 256."
   ]
  },
  {
   "cell_type": "code",
   "execution_count": 6,
   "metadata": {},
   "outputs": [
    {
     "name": "stdout",
     "output_type": "stream",
     "text": [
      "Доверительный интервал для оценки математического ожидания a с надежностью 0.95 - [81.64;78.36]\n"
     ]
    }
   ],
   "source": [
    "# mean +- Za/2 * std / n\n",
    "z = 1.645\n",
    "\n",
    "a = 80 + z * 16 / np.sqrt(256)\n",
    "b = 80 - z * 16 / np.sqrt(256)\n",
    "print(f\"Доверительный интервал для оценки математического ожидания a с надежностью 0.95 - [{a:.2f};{b:.2f}]\")"
   ]
  },
  {
   "cell_type": "markdown",
   "metadata": {},
   "source": [
    "#### 2. В результате 10 независимых измерений некоторой величины X, выполненных с одинаковой точностью, получены опытные данные: 6.9, 6.1, 6.2, 6.8, 7.5, 6.3, 6.4, 6.9, 6.7, 6.1 Предполагая, что результаты измерений подчинены нормальному закону распределения вероятностей, оценить истинное значение величины X при помощи доверительного интервала, покрывающего это значение с доверительной вероятностью 0,95."
   ]
  },
  {
   "cell_type": "code",
   "execution_count": 14,
   "metadata": {},
   "outputs": [
    {
     "name": "stdout",
     "output_type": "stream",
     "text": [
      "Интервал: [6.91;6.27]\n"
     ]
    }
   ],
   "source": [
    "# Нет дисперсии => через критерий t\n",
    "array = np.array([6.9, 6.1, 6.2, 6.8, 7.5, 6.3, 6.4, 6.9, 6.7, 6.1])\n",
    "\n",
    "n = len(array)\n",
    "mean_2 = np.mean(array)\n",
    "t = 2.262\n",
    "std = np.std(array, ddof=1) / np.sqrt(n)\n",
    "\n",
    "a_2 = mean_2 + t * std\n",
    "b_2 = mean_2 - t * std\n",
    "print(f\"Интервал: [{a_2:.2f};{b_2:.2f}]\")\n"
   ]
  },
  {
   "cell_type": "markdown",
   "metadata": {},
   "source": [
    "#### 3. Утверждается, что шарики для подшипников, изготовленные автоматическим станком, имеют средний диаметр 17 мм. Используя односторонний критерий с α=0,05, проверить эту гипотезу, если в выборке из n=100 шариков средний диаметр оказался равным 17.5 мм, а дисперсия известна и равна 4 кв.мм."
   ]
  },
  {
   "cell_type": "code",
   "execution_count": 22,
   "metadata": {},
   "outputs": [
    {
     "name": "stdout",
     "output_type": "stream",
     "text": [
      "Принимаем нулевую гипотезу, т.к. z_table > \n"
     ]
    }
   ],
   "source": [
    "# 1) H0: диаметр = 17 мм, mu = mu0\n",
    "#    H1: диаметр = 17.5 мм, mu > mu0\n",
    "# 2) Дисперсия известна => используем Z-критерий\n",
    "\n",
    "z_table = 1.645  # т.к. alpha = 5 %\n",
    "se = np.sqrt(4) / np.sqrt(100)\n",
    "z_fact = (17.5 - 17) / se\n",
    "z_table < z_fact\n",
    "print(\"Принимаем альтернативную гипотезу, т.к. z_table < z_fact \")"
   ]
  },
  {
   "cell_type": "markdown",
   "metadata": {},
   "source": [
    "#### 4. Продавец утверждает, что средний вес пачки печенья составляет 200 г. Из партии извлечена выборка из 10 пачек. Вес каждой пачки составляет: 202, 203, 199, 197, 195, 201, 200, 204, 194, 190. Известно, что их веса распределены нормально. Верно ли утверждение продавца, если учитывать, что доверительная вероятность равна 99%?"
   ]
  },
  {
   "cell_type": "code",
   "execution_count": 27,
   "metadata": {},
   "outputs": [
    {
     "name": "stdout",
     "output_type": "stream",
     "text": [
      "Принимаем нулевую гипотезу, т.к. t_fact < t_table\n"
     ]
    }
   ],
   "source": [
    "# Дисперсия неизвестна => t-критерий\n",
    "X_array = np.array([202, 203, 199, 197, 195, 201, 200, 204, 194, 190])\n",
    "\n",
    "mean0 = 200\n",
    "mean1 = np.mean(X_array)\n",
    "n_ar = len(X_array)\n",
    "t_table = 3.25\n",
    "std_3 = np.std(X_array, ddof=1) / np.sqrt(n)\n",
    "\n",
    "t_fact = (mean1 - mean0) / std_3\n",
    "t_fact < t_table\n",
    "print(f\"Принимаем нулевую гипотезу, т.к. t_fact < t_table\")"
   ]
  }
 ],
 "metadata": {
  "kernelspec": {
   "display_name": "Python 3",
   "language": "python",
   "name": "python3"
  },
  "language_info": {
   "codemirror_mode": {
    "name": "ipython",
    "version": 3
   },
   "file_extension": ".py",
   "mimetype": "text/x-python",
   "name": "python",
   "nbconvert_exporter": "python",
   "pygments_lexer": "ipython3",
   "version": "3.8.5"
  }
 },
 "nbformat": 4,
 "nbformat_minor": 4
}
