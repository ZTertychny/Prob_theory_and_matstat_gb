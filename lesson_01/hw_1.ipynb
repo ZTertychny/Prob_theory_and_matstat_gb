{
 "cells": [
  {
   "cell_type": "code",
   "execution_count": 72,
   "metadata": {},
   "outputs": [],
   "source": [
    "import numpy\n",
    "from math import factorial"
   ]
  },
  {
   "cell_type": "code",
   "execution_count": 73,
   "metadata": {},
   "outputs": [],
   "source": [
    "class Formulas():\n",
    "    @staticmethod\n",
    "    def combinations(n,k):\n",
    "        return int(factorial(n) / (factorial(k)*factorial(n-k)))\n",
    "    \n",
    "    @staticmethod\n",
    "    def permutations(n):\n",
    "        return int(factorial(n))\n",
    "    \n",
    "    @staticmethod\n",
    "    def arrangements(n, k):\n",
    "        return int(factorial(n) / factorial(n - k))\n",
    "    \n",
    "    @staticmethod\n",
    "    def probability(n, m):\n",
    "        return m / n"
   ]
  },
  {
   "cell_type": "markdown",
   "metadata": {},
   "source": [
    "### 1. Из колоды в 52 карты извлекаются случайным образом 4 карты. a) Найти вероятность того, что все карты – крести. б) Найти вероятность, что среди 4-х карт окажется хотя бы один туз."
   ]
  },
  {
   "cell_type": "code",
   "execution_count": 74,
   "metadata": {},
   "outputs": [
    {
     "name": "stdout",
     "output_type": "stream",
     "text": [
      "Вероятность того, что все 4 карты крести,составила: 0.011\n"
     ]
    }
   ],
   "source": [
    "# a) Найти вероятность того, что все карты – крести.\n",
    "# В колоде всего 18 карт - крести, ищем сочетания крестей из 4 карт\n",
    "comb_clovers = Formulas.combinations(18, 4)\n",
    "\n",
    "# Ищем общее количество исходов\n",
    "total_comb = Formulas.combinations(52, 4)\n",
    "\n",
    "# Получаем итоговую вероятность\n",
    "print(f'Вероятность того, что все 4 карты крести,\\\n",
    "составила: {Formulas.probability(total_comb, comb_clovers):.3f}')"
   ]
  },
  {
   "cell_type": "code",
   "execution_count": 75,
   "metadata": {},
   "outputs": [
    {
     "name": "stdout",
     "output_type": "stream",
     "text": [
      "Общее количество исходов: 270725\n",
      "Количество благоприятных исходов: 76145\n",
      "Вероятность, что среди 4-х карт окажется хотя бы один туз, составила: 0.281\n"
     ]
    }
   ],
   "source": [
    "# б) Найти вероятность, что среди 4-х карт окажется хотя бы один туз.\n",
    "# Ищем общие сочетания из 4 карт в 52 карточной колоде\n",
    "# total_comb = Formulas.combinations(52, 4)\n",
    "print(f'Общее количество исходов: {total_comb}')\n",
    "\n",
    "# Ищем сочетания тузов от 1 до 4\n",
    "comb_1_ace = Formulas.combinations(4, 1)\n",
    "comb_2_ace = Formulas.combinations(4, 2)\n",
    "comb_3_ace = Formulas.combinations(4, 3)\n",
    "comb_4_ace = Formulas.combinations(4, 4)\n",
    "\n",
    "# Ищем сочетания оставшихся карт без тузов от 1-4\n",
    "comb_without_1_ace = Formulas.combinations(48, 3)\n",
    "comb_without_2_ace = Formulas.combinations(48, 2)\n",
    "comb_without_3_ace = Formulas.combinations(48, 1)\n",
    "comb_without_4_ace = Formulas.combinations(48, 0)\n",
    "\n",
    "# Получаем общее количество благоприятных сочетаний\n",
    "favourable_comb = (comb_1_ace * comb_without_1_ace) + (comb_2_ace * comb_without_2_ace) \\\n",
    "+ (comb_3_ace * comb_without_3_ace) + (comb_4_ace * comb_without_4_ace)\n",
    "print(f'Количество благоприятных исходов: {favourable_comb}')\n",
    "\n",
    "# Получаем итоговую вероятность по формуле классической вероятности\n",
    "print(f'Вероятность, что среди 4-х карт окажется хотя бы один туз, \\\n",
    "составила: {Formulas.probability(total_comb, favourable_comb):.3f}')"
   ]
  },
  {
   "cell_type": "markdown",
   "metadata": {},
   "source": [
    "### 2. На входной двери подъезда установлен кодовый замок, содержащий десять кнопок с цифрами от 0 до 9. Код содержит три цифры, которые нужно нажать одновременно. Какова вероятность того, что человек, не знающий код, откроет дверь с первой попытки?"
   ]
  },
  {
   "cell_type": "code",
   "execution_count": 76,
   "metadata": {},
   "outputs": [
    {
     "name": "stdout",
     "output_type": "stream",
     "text": [
      "Вероятность того, что человек, не знающий код, откроет дверь с первой попытки, составила: 0.008\n"
     ]
    }
   ],
   "source": [
    "# Ищем количество комбинаций из 3-х в пределах 0-9\n",
    "total_comb_entrance = Formulas.combinations(10, 3)\n",
    "\n",
    "# Получаем итоговую вероятность, учитывая, что благоприятный исход всего 1\n",
    "code_probability = Formulas.probability(total_comb_entrance, 1)\n",
    "print(f'Вероятность того, что человек, не знающий код, откроет дверь с первой попытки, \\\n",
    "составила: {code_probability:.3f}')"
   ]
  },
  {
   "cell_type": "markdown",
   "metadata": {},
   "source": [
    "### 3. В ящике имеется 15 деталей, из которых 9 окрашены. Рабочий случайным образом извлекает 3 детали. Какова вероятность того, что все извлеченные детали окрашены?"
   ]
  },
  {
   "cell_type": "code",
   "execution_count": 77,
   "metadata": {},
   "outputs": [
    {
     "name": "stdout",
     "output_type": "stream",
     "text": [
      "Вероятность того, что все 3 извлеченные детали окрашены, составляет: 0.185\n"
     ]
    }
   ],
   "source": [
    "# Ищем количество сочетаний окрашенных 9 деталей по 3\n",
    "comb_3_from_9 = Formulas.combinations(9, 3)\n",
    "\n",
    "# Ищем общее количество исходов\n",
    "total_comb_box = Formulas.combinations(15, 3)\n",
    "\n",
    "# Получаем итоговую вероятность\n",
    "box_res = Formulas.probability(total_comb_box, comb_3_from_9)\n",
    "print(f'Вероятность того, что все 3 извлеченные детали окрашены, составляет: {box_res:.3f}')\n"
   ]
  },
  {
   "cell_type": "markdown",
   "metadata": {},
   "source": [
    "### 4. В лотерее 100 билетов. Из них 2 выигрышных. Какова вероятность того, что 2 приобретенных билета окажутся выигрышными?"
   ]
  },
  {
   "cell_type": "code",
   "execution_count": 78,
   "metadata": {},
   "outputs": [
    {
     "name": "stdout",
     "output_type": "stream",
     "text": [
      "Вероятность того, что 2 приобретенных билета окажутся выигрышными: 0.00020\n"
     ]
    }
   ],
   "source": [
    "# Ищем общее количество комьинаций 2-х билетов из 100\n",
    "total_tickets_comb = Formulas.combinations(100, 2)\n",
    "\n",
    "# Ищем количество благоприятных исходов\n",
    "win_tickets_comb = Formulas.combinations(2, 2)\n",
    "\n",
    "# Получаем итоговую вероятность\n",
    "tickets_res = Formulas.probability(total_tickets_comb, win_tickets_comb)\n",
    "print(f'Вероятность того, что 2 приобретенных билета окажутся выигрышными: {tickets_res:.5f}')"
   ]
  }
 ],
 "metadata": {
  "kernelspec": {
   "display_name": "Python 3",
   "language": "python",
   "name": "python3"
  },
  "language_info": {
   "codemirror_mode": {
    "name": "ipython",
    "version": 3
   },
   "file_extension": ".py",
   "mimetype": "text/x-python",
   "name": "python",
   "nbconvert_exporter": "python",
   "pygments_lexer": "ipython3",
   "version": "3.8.5"
  }
 },
 "nbformat": 4,
 "nbformat_minor": 4
}
