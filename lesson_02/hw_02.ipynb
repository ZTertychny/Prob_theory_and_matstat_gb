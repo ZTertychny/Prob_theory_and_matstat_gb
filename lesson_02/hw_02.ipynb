{
 "cells": [
  {
   "cell_type": "code",
   "execution_count": 10,
   "metadata": {},
   "outputs": [],
   "source": [
    "import numpy\n",
    "from math import factorial\n",
    "from math import exp"
   ]
  },
  {
   "cell_type": "code",
   "execution_count": 30,
   "metadata": {},
   "outputs": [],
   "source": [
    "class Formulas():\n",
    "    @staticmethod\n",
    "    def combinations(n,k):\n",
    "        return int(factorial(n) / (factorial(k)*factorial(n-k)))\n",
    "    \n",
    "    @staticmethod\n",
    "    def permutations(n):\n",
    "        return int(factorial(n))\n",
    "    \n",
    "    @staticmethod\n",
    "    def arrangements(n, k):\n",
    "        return int(factorial(n) / factorial(n - k))\n",
    "    \n",
    "    @staticmethod\n",
    "    def probability(n, m):\n",
    "        return m / n\n",
    "    \n",
    "    @staticmethod\n",
    "    def binomial_distribution(n, k, p, q):\n",
    "        prob = Formulas.combinations(n, k) * (p**k) * (q**(n-k))\n",
    "        return prob\n",
    "    \n",
    "    @staticmethod\n",
    "    def puasson_distribution(m, lamb):\n",
    "        prob = ((lamb**m) / factorial(m)) * (exp(-lamb))\n",
    "        return prob"
   ]
  },
  {
   "cell_type": "markdown",
   "metadata": {},
   "source": [
    "### 1. Вероятность того, что стрелок попадет в мишень, выстрелив один раз, равна 0.8. Стрелок выстрелил 100 раз. Найдите вероятность того, что стрелок попадет в цель ровно 85 раз."
   ]
  },
  {
   "cell_type": "code",
   "execution_count": 33,
   "metadata": {},
   "outputs": [
    {
     "name": "stdout",
     "output_type": "stream",
     "text": [
      "вероятность того, что стрелок попадет в цель ровно 85 раз из 100: 0.05\n"
     ]
    }
   ],
   "source": [
    "# Будем использовать биномальное распределение, \n",
    "# т.к. имеется большая вероятность, небольшое количество испытаний\n",
    "# Находим необходимые переменные\n",
    "k_first_task = 85\n",
    "n_first_task = 100\n",
    "p_first_task = 0.8\n",
    "q_first_task = 1 - p_first_task\n",
    "\n",
    "# Получаем результат\n",
    "res_first_task = Formulas.binomial_distribution(n_first_task, k_first_task, p_first_task, q_first_task)\n",
    "print(f\"вероятность того, что стрелок попадет в цель ровно 85 раз из 100: {res_first_task:.2f}\")"
   ]
  },
  {
   "cell_type": "markdown",
   "metadata": {},
   "source": [
    "### 2. Вероятность того, что лампочка перегорит в течение первого дня эксплуатации, равна 0.0004. В жилом комплексе после ремонта в один день включили 5000 новых лампочек. Какова вероятность, что ни одна из них не перегорит в первый день? Какова вероятность, что перегорят ровно две?"
   ]
  },
  {
   "cell_type": "code",
   "execution_count": 47,
   "metadata": {},
   "outputs": [
    {
     "name": "stdout",
     "output_type": "stream",
     "text": [
      "Вероятность, что ни одна из лампочек не перегорит в первый день: 0.135\n",
      "вероятность, что перегорят ровно две лампочки: 0.271\n"
     ]
    }
   ],
   "source": [
    "# Распределение Пуассона,\n",
    "# т.к. вероятность очень мала, есть средняя вероятность, большое кол-во испытаний\n",
    "\n",
    "lamb_second = 0.0004 * 5000\n",
    "\n",
    "# Вероятность, что не перегорит ни одна\n",
    "m_one_lamp = 0\n",
    "res_one_lamp = Formulas.puasson_distribution(m_one_lamp, lamb_second)\n",
    "print(f\"Вероятность, что ни одна из лампочек не перегорит в первый день: {res_one_lamp:.3f}\")\n",
    "\n",
    "# Вероятность того, что перегорят две\n",
    "m_two_lapmp = 2\n",
    "res_two_lamp = Formulas.puasson_distribution(m_two_lapmp, lamb_second)\n",
    "print(f\"вероятность, что перегорят ровно две лампочки: {res_two_lamp:.3f}\")\n"
   ]
  },
  {
   "cell_type": "markdown",
   "metadata": {},
   "source": [
    "### 3. Монету подбросили 144 раза. Какова вероятность, что орел выпадет ровно 70 раз?"
   ]
  },
  {
   "cell_type": "code",
   "execution_count": 40,
   "metadata": {},
   "outputs": [
    {
     "name": "stdout",
     "output_type": "stream",
     "text": [
      "Вероятность, что орел выпадет ровно 70 раз: 0.063\n"
     ]
    }
   ],
   "source": [
    "# Формула Бернулли, \n",
    "# т.к. вероятность = 0,5 - довольно большая, небольшое количество испытаний\n",
    "\n",
    "k_third = 70\n",
    "n_third = 144\n",
    "p_third = 0.5\n",
    "q_third = 0.5\n",
    "\n",
    "res_three = Formulas.binomial_distribution(n_third, k_third, p_third, q_third)\n",
    "print(f\"Вероятность, что орел выпадет ровно 70 раз: {res_three:.3f}\")"
   ]
  },
  {
   "cell_type": "markdown",
   "metadata": {},
   "source": [
    "### 4. В первом ящике находится 10 мячей, из которых 7 - белые. Во втором ящике - 11 мячей, из которых 9 белых. Из каждого ящика вытаскивают случайным образом по два мяча. Какова вероятность того, что все мячи белые? Какова вероятность того, что ровно два мяча белые? Какова вероятность того, что хотя бы один мяч белый?"
   ]
  },
  {
   "cell_type": "code",
   "execution_count": 63,
   "metadata": {},
   "outputs": [
    {
     "name": "stdout",
     "output_type": "stream",
     "text": [
      "вероятность того, что все мячи белые: 0.305\n",
      "Вероятность того, что ровно два мяча белые: 0.205\n",
      "вероятность того, что хотя бы один мяч белый: 0.999\n"
     ]
    }
   ],
   "source": [
    "# Какова вероятность того, что все мячи белые?\n",
    "# Найдем вероятности того, что в каждой корзине взяли 2 белых мяча\n",
    "prob_one = (7 / 10) * (6 / 9)\n",
    "prob_two = (9 / 11) * (8/10)\n",
    "\n",
    "# Используем формулу полной вероятности \n",
    "prob_all_white = prob_one * prob_two\n",
    "print(f\"вероятность того, что все мячи белые: {prob_all_white:.3f}\")\n",
    "\n",
    "# Какова вероятность того, что ровно два мяча белые?\n",
    "# Рассмотрим несколько вариантов:\n",
    "# Достали 2 белых из первого ящика и 2 черных из второго\n",
    "prob_two_white_from_one = Formulas.combinations(7, 2) / Formulas.combinations(10, 2)\n",
    "prob_two_black_from_two =  Formulas.combinations(2, 2) / Formulas.combinations(11, 2)\n",
    "prob_first = prob_two_white_from_one * prob_two_black_from_two \n",
    "\n",
    "# Достали из первой 2 черных, из второго 2 белых\n",
    "prob_two_black_from_one = Formulas.combinations(3, 2) / Formulas.combinations(10, 2)\n",
    "prob_two_white_from_two = Formulas.combinations(9, 2) / Formulas.combinations(11, 2)\n",
    "prob_second = prob_two_black_from_one * prob_two_white_from_two\n",
    "\n",
    "# Достали 1 белый из первой, 1 белый из второй\n",
    "prob_one_white_one_black_from_one = (Formulas.combinations(7, 1) * Formulas.combinations(3, 1)\n",
    "                                    ) / Formulas.combinations(10, 2)\n",
    "prob_one_white_one_black_from_two = (Formulas.combinations(9, 1) * Formulas.combinations(2, 1)\n",
    "                                    ) / Formulas.combinations(11, 2)\n",
    "prob_third = prob_one_white_one_black_from_one * prob_one_white_one_black_from_two\n",
    "\n",
    "res_task_two = prob_first + prob_second + prob_third\n",
    "print(f\"Вероятность того, что ровно два мяча белые: {res_task_two:.3f}\")\n",
    "\n",
    "\n",
    "# Какова вероятность того, что хотя бы один мяч белый?\n",
    "# Найдем вероятность того, что будут все черные\n",
    "prob_all_black = (3 / 10) * (2 / 9) * (2 / 11) * (1 / 10)\n",
    "prob_res = 1 - prob_all_black\n",
    "print(f\"вероятность того, что хотя бы один мяч белый: {prob_res:.3f}\")"
   ]
  }
 ],
 "metadata": {
  "kernelspec": {
   "display_name": "Python 3",
   "language": "python",
   "name": "python3"
  },
  "language_info": {
   "codemirror_mode": {
    "name": "ipython",
    "version": 3
   },
   "file_extension": ".py",
   "mimetype": "text/x-python",
   "name": "python",
   "nbconvert_exporter": "python",
   "pygments_lexer": "ipython3",
   "version": "3.8.5"
  }
 },
 "nbformat": 4,
 "nbformat_minor": 4
}
