{
 "cells": [
  {
   "cell_type": "code",
   "execution_count": 37,
   "metadata": {},
   "outputs": [],
   "source": [
    "import numpy as np\n",
    "import pandas as pd\n",
    "from scipy.stats import norm"
   ]
  },
  {
   "cell_type": "markdown",
   "metadata": {},
   "source": [
    "#### Задание 1.\n",
    "Даны значения величины заработной платы заемщиков банка (zp) и значения их поведенческого кредитного скоринга (ks):<br>\n",
    "zp = [35, 45, 190, 200, 40, 70, 54, 150, 120, 110] <br>\n",
    "ks = [401, 574, 874, 919, 459, 739, 653, 902, 746, 832] <br>\n",
    "Найдите ковариацию этих двух величин с помощью элементарных действий, а затем с помощью функции cov из numpy\n",
    "Полученные значения должны быть равны.\n",
    "Найдите коэффициент корреляции Пирсона с помощью ковариации и среднеквадратичных отклонений двух признаков,\n",
    "а затем с использованием функций из библиотек numpy и pandas."
   ]
  },
  {
   "cell_type": "code",
   "execution_count": 35,
   "metadata": {},
   "outputs": [
    {
     "name": "stdout",
     "output_type": "stream",
     "text": [
      "Ковариация:\n",
      "[[ 3494.64  9157.84]\n",
      " [ 9157.84 30468.89]]\n",
      "9157.839999999997\n",
      "\n",
      "Корреляция:\n",
      "0.8874900920739158\n",
      " [[1.         0.88749009]\n",
      " [0.88749009 1.        ]]\n",
      "\n",
      "Корреляция(pandas):\n",
      "         zp       ks\n",
      "zp  1.00000  0.88749\n",
      "ks  0.88749  1.00000\n"
     ]
    }
   ],
   "source": [
    "zp = np.array([35, 45, 190, 200, 40, 70, 54, 150, 120, 110])\n",
    "ks = np.array([401, 574, 874, 919, 459, 739, 653, 902, 746, 832])\n",
    "\n",
    "# Ковариация с помощью элементарных действий \n",
    "# cov = m(x*y) - m(x)*m(y)\n",
    "cov_elementary = np.mean(zp * ks) - np.mean(zp) * np.mean(ks)\n",
    "\n",
    "# Ковариация с помощью встроенных функций\n",
    "cov_built_in = np.cov(zp, ks, ddof=0)\n",
    "\n",
    "print(f\"Ковариация:\\n{cov_built_in}\\n{cov_elementary}\\n\")\n",
    "\n",
    "# Корреляция с помощью элементарных действий\n",
    "cor_elementary = cov_elementary / (np.std(zp) * np.std(ks))\n",
    "\n",
    "\n",
    "# Корреляция с помощью встроенных функций\n",
    "cor_built_in = np.corrcoef(zp, ks)\n",
    "print(f\"Корреляция:\\n{cor_elementary}\\n {cor_built_in}\\n\")\n",
    "\n",
    "# Корреляция с помощью pandas\n",
    "data = {\"zp\": zp, \"ks\": ks}\n",
    "df = pd.DataFrame(data = data)\n",
    "print(f\"Корреляция(pandas):\\n{df.corr(method='pearson')}\")"
   ]
  },
  {
   "cell_type": "markdown",
   "metadata": {},
   "source": [
    "#### Задание 2.\n",
    "Измерены значения IQ выборки студентов,\n",
    "обучающихся в местных технических вузах:\n",
    "131, 125, 115, 122, 131, 115, 107, 99, 125, 111.\n",
    "Известно, что в генеральной совокупности IQ распределен нормально.\n",
    "Найдите доверительный интервал для математического ожидания с надежностью 0.95."
   ]
  },
  {
   "cell_type": "code",
   "execution_count": 44,
   "metadata": {},
   "outputs": [
    {
     "name": "stdout",
     "output_type": "stream",
     "text": [
      "Интервал: [110.56;125.64]\n"
     ]
    }
   ],
   "source": [
    "# Сигмы нет => критерий Стюдента \n",
    "# mean +- t(alpha/2) * sigma / sqrt(n)\n",
    "arr = np.array([131, 125, 115, 122, 131, 115, 107, 99, 125, 111])\n",
    "mean_arr = arr.mean()\n",
    "alpha = 0.95\n",
    "std_x = np.std(arr, ddof=1)\n",
    "t = 2.262\n",
    "\n",
    "left = mean_arr - t * std_x / np.sqrt(len(arr))\n",
    "right = mean_arr + t * std_x / np.sqrt(len(arr))\n",
    "\n",
    "print(f\"Интервал: [{left:.2f};{right:.2f}]\")"
   ]
  },
  {
   "cell_type": "markdown",
   "metadata": {},
   "source": [
    "#### Задание 3.\n",
    "Известно, что рост футболистов в сборной распределен нормально\n",
    "с дисперсией генеральной совокупности, равной 25 кв.см. Объем выборки равен 27,\n",
    "среднее выборочное составляет 174.2. Найдите доверительный интервал для математического ожидания с альфа =0,95"
   ]
  },
  {
   "cell_type": "code",
   "execution_count": 47,
   "metadata": {},
   "outputs": [
    {
     "name": "stdout",
     "output_type": "stream",
     "text": [
      "Интервал: [172.31;176.09]\n"
     ]
    }
   ],
   "source": [
    "std = 5\n",
    "SE = std / np.sqrt(27)\n",
    "alpha = 5\n",
    "X_mean = 174.2\n",
    "z = 1.96\n",
    "\n",
    "left = X_mean - z * SE\n",
    "right = X_mean + z * SE\n",
    "print(f\"Интервал: [{left:.2f};{right:.2f}]\")"
   ]
  }
 ],
 "metadata": {
  "kernelspec": {
   "display_name": "Python 3",
   "language": "python",
   "name": "python3"
  },
  "language_info": {
   "codemirror_mode": {
    "name": "ipython",
    "version": 3
   },
   "file_extension": ".py",
   "mimetype": "text/x-python",
   "name": "python",
   "nbconvert_exporter": "python",
   "pygments_lexer": "ipython3",
   "version": "3.8.5"
  }
 },
 "nbformat": 4,
 "nbformat_minor": 4
}
