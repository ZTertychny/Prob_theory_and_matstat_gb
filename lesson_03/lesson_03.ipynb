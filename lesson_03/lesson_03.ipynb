{
 "cells": [
  {
   "cell_type": "code",
   "execution_count": 3,
   "metadata": {},
   "outputs": [],
   "source": [
    "import numpy as np\n",
    "from math import factorial\n",
    "from math import exp"
   ]
  },
  {
   "cell_type": "code",
   "execution_count": 36,
   "metadata": {},
   "outputs": [],
   "source": [
    "class ProbFormulas:\n",
    "    \n",
    "    @staticmethod\n",
    "    def combinations(n,k):\n",
    "        return int(factorial(n) / (factorial(k)*factorial(n-k)))\n",
    "    \n",
    "    @staticmethod\n",
    "    def permutations(n):\n",
    "        return int(factorial(n))\n",
    "    \n",
    "    @staticmethod\n",
    "    def arrangements(n, k):\n",
    "        return int(factorial(n) / factorial(n - k))\n",
    "    \n",
    "    @staticmethod\n",
    "    def probability(n, m):\n",
    "        return m / n\n",
    "    \n",
    "    @staticmethod\n",
    "    def binomial_distribution(n, k, p, q):\n",
    "        prob = Formulas.combinations(n, k) * (p**k) * (q**(n-k))\n",
    "        return prob\n",
    "    \n",
    "    @staticmethod\n",
    "    def puasson_distribution(m, lamb):\n",
    "        prob = ((lamb**m) / factorial(m)) * (exp(-lamb))\n",
    "        return prob\n",
    "\n",
    "class StatFormulas:\n",
    "    \n",
    "    @staticmethod\n",
    "    def mean(arr):\n",
    "        n_qty = arr.size\n",
    "        return arr.sum() / n_qty\n",
    "    \n",
    "    @staticmethod\n",
    "    def msd_gen(arr):\n",
    "        mean_arr = StatFormulas.mean(arr)\n",
    "        n_qty = arr.size\n",
    "        result = 0\n",
    "        for num in arr:\n",
    "            result += (num - mean_arr) ** 2 / n_qty\n",
    "        return result ** (1 / 2)\n",
    "    \n",
    "    @staticmethod\n",
    "    def msd_corrected(arr):\n",
    "        mean_arr = StatFormulas.mean(arr)\n",
    "        n_qty = arr.size\n",
    "        result = 0\n",
    "        for num in arr:\n",
    "            result += (num - mean_arr) ** 2 / (n_qty - 1)\n",
    "        return result ** (1 / 2)\n",
    "    \n",
    "    @staticmethod\n",
    "    def var(arr, is_corrected=False):\n",
    "        if not is_corrected:\n",
    "            return (StatFormulas.msd_gen(arr)) ** 2\n",
    "        else:\n",
    "            return (StatFormulas.msd_corrected(arr)) ** 2\n",
    "        "
   ]
  },
  {
   "cell_type": "markdown",
   "metadata": {},
   "source": [
    "### 1. Даны значения зарплат из выборки выпускников: 100, 80, 75, 77, 89, 33, 45, 25, 65, 17, 30, 24, 57, 55, 70, 75, 65, 84, 90, 150. Посчитать (желательно без использования статистических методов наподобие std, var, mean) среднее арифметическое, среднее квадратичное отклонение, смещенную и несмещенную оценки дисперсий для данной выборки."
   ]
  },
  {
   "cell_type": "code",
   "execution_count": 41,
   "metadata": {},
   "outputs": [
    {
     "name": "stdout",
     "output_type": "stream",
     "text": [
      "Среднее арифметическое: 65.30\n",
      "Среднее квадратичное отклонение: 30.82\n",
      "Смещенная оценка дисперсии: 950.11\n",
      "Несмещенная оценка дисперсии: 1000.12\n"
     ]
    }
   ],
   "source": [
    "arr = np.array([100, 80, 75, 77, 89, 33, 45, 25, 65, 17, 30, 24, 57, 55, 70, 75, 65, 84, 90, 150])\n",
    "\n",
    "arr_mean = StatFormulas.mean(arr)\n",
    "\n",
    "mean_square_deviation = StatFormulas.msd_gen(arr)\n",
    "\n",
    "var_gen = StatFormulas.var(arr)\n",
    "var_corrected = StatFormulas.var(arr, is_corrected=True)\n",
    "\n",
    "print(f\"Среднее арифметическое: {arr_mean:.2f}\\\n",
    "\\nСреднее квадратичное отклонение: {mean_square_deviation:.2f}\\\n",
    "\\nСмещенная оценка дисперсии: {var_gen:.2f}\\\n",
    "\\nНесмещенная оценка дисперсии: {var_corrected:.2f}\")"
   ]
  },
  {
   "cell_type": "markdown",
   "metadata": {},
   "source": [
    "### 2. В первом ящике находится 8 мячей, из которых 5 - белые. Во втором ящике - 12 мячей, из которых 5 белых. Из первого ящика вытаскивают случайным образом два мяча, из второго - 4. Какова вероятность того, что 3 мяча белые?"
   ]
  },
  {
   "cell_type": "code",
   "execution_count": 43,
   "metadata": {},
   "outputs": [
    {
     "name": "stdout",
     "output_type": "stream",
     "text": [
      "Вероятность того, что 3 мяча белые: 0.37\n"
     ]
    }
   ],
   "source": [
    "# Существует три ситуации:\n",
    "# 1) 2 белых из первого и 1 белый из второго\n",
    "# 2) 1 белый из первого и 2 белых из второго\n",
    "# 3) 0 белых из первого и 3 белых из второго\n",
    "# Соответственно, вероятность будет равна сумме этих событий\n",
    "\n",
    "p1 = (ProbFormulas.combinations(5, 2) / ProbFormulas.combinations(8, 2)) * (\n",
    "    ProbFormulas.combinations(5, 1) * ProbFormulas.combinations(7, 3) / ProbFormulas.combinations(12, 4))\n",
    "\n",
    "p2 = (ProbFormulas.combinations(5, 1) * ProbFormulas.combinations(3, 1) / ProbFormulas.combinations(8, 2))\\\n",
    "     * (ProbFormulas.combinations(5, 2) * ProbFormulas.combinations(7, 2)\n",
    "        / ProbFormulas.combinations(12, 4))\n",
    "\n",
    "p3 = (ProbFormulas.combinations(3, 2) / ProbFormulas.combinations(8, 2)) * (\n",
    "    ProbFormulas.combinations(5, 3) * ProbFormulas.combinations(7, 1) / ProbFormulas.combinations(12, 4))\n",
    "\n",
    "res = p1 + p2 + p3\n",
    "print(f\"Вероятность того, что 3 мяча белые: {res:.2f}\")"
   ]
  },
  {
   "cell_type": "markdown",
   "metadata": {},
   "source": [
    "### 3. На соревновании по биатлону один из трех спортсменов стреляет и попадает в мишень. Вероятность попадания для первого спортсмена равна 0.9, для второго — 0.8, для третьего — 0.6. Найти вероятность того, что выстрел произведен: a). первым спортсменом б). вторым спортсменом в). третьим спортсменом. "
   ]
  },
  {
   "cell_type": "code",
   "execution_count": 49,
   "metadata": {},
   "outputs": [
    {
     "name": "stdout",
     "output_type": "stream",
     "text": [
      "Вероятность того, что выстрел произведен:        \n",
      " первым спортсменом - 0.39,        \n",
      " вторым спортсменом - 0.35,        \n",
      " третьим спортсменом - 0.26\n"
     ]
    }
   ],
   "source": [
    "# Через формулу Байеса\n",
    "# Находим вероятность того, что один из трех спортсменов попал в мишень\n",
    "p_shoot = (1/3) * 0.9 + (1/3) * 0.8 + (1/3) * 0.6\n",
    "\n",
    "p_first_sptmen = (1/3) * 0.9 / p_shoot\n",
    "p_second_sptmen = (1/3) * 0.8 / p_shoot\n",
    "p_third_sptmen = (1/3) * 0.6 / p_shoot\n",
    "\n",
    "print(f\"Вероятность того, что выстрел произведен:\\\n",
    "        \\n первым спортсменом - {p_first_sptmen:.2f},\\\n",
    "        \\n вторым спортсменом - {p_second_sptmen:.2f},\\\n",
    "        \\n третьим спортсменом - {p_third_sptmen:.2f}\")\n"
   ]
  },
  {
   "cell_type": "markdown",
   "metadata": {},
   "source": [
    "### 4. В университет на факультеты A и B поступило равное количество студентов, а на факультет C студентов поступило столько же, сколько на A и B вместе. Вероятность того, что студент факультета A сдаст первую сессию, равна 0.8. Для студента факультета B эта вероятность равна 0.7, а для студента факультета C - 0.9. Студент сдал первую сессию. Какова вероятность, что он учится: a). на факультете A б). на факультете B в). на факультете C?"
   ]
  },
  {
   "cell_type": "code",
   "execution_count": 51,
   "metadata": {},
   "outputs": [
    {
     "name": "stdout",
     "output_type": "stream",
     "text": [
      "Вероятность, что студент с факультета:        \n",
      " A - 0.24,        \n",
      " B - 0.21,        \n",
      " C - 0.55\n"
     ]
    }
   ],
   "source": [
    "# Шансы вытащить студента из общности A и B или C равны 1/2 для C и для A и B.\n",
    "# Но шансы вытащить студента из A или B = 1/2 / 2, т.е. 1/4\n",
    "# => Получаются следующее распределение вероятностей среди факультетов\n",
    "p_a = 1 / 4\n",
    "p_b = 1 / 4\n",
    "p_c = 1 / 2\n",
    "\n",
    "# Через формулу Байеса дальше\n",
    "# Вероятность того, что студент сдал сессию\n",
    "p_gen = p_a * 0.8 + p_b * 0.7 + p_c * 0.9\n",
    "\n",
    "p_1 = p_a * 0.8 / p_gen\n",
    "p_2 = p_b * 0.7 / p_gen\n",
    "p_3 = p_c * 0.9 / p_gen\n",
    "\n",
    "print(f\"Вероятность, что студент с факультета:\\\n",
    "        \\n A - {p_1:.2f},\\\n",
    "        \\n B - {p_2:.2f},\\\n",
    "        \\n C - {p_3:.2f}\")"
   ]
  },
  {
   "cell_type": "markdown",
   "metadata": {},
   "source": [
    "### 5. Устройство состоит из трех деталей. Для первой детали вероятность выйти из строя в первый месяц равна 0.1, для второй - 0.2, для третьей - 0.25. Какова вероятность того, что в первый месяц выйдут из строя: а). все детали б). только две детали в). хотя бы одна деталь г). от одной до двух деталей?"
   ]
  },
  {
   "cell_type": "code",
   "execution_count": 60,
   "metadata": {},
   "outputs": [
    {
     "name": "stdout",
     "output_type": "stream",
     "text": [
      "Вероятность того, что в первый месяц выйдут из строя все детали: 0.01\n",
      "Вероятность того, что в первый месяц выйдут из строя только две детали: 0.08\n",
      "Вероятность того, что в первый месяц выйдет из строя хотя бы одна деталь: 0.46\n",
      "Вероятность того, что в первый месяц выйдут из строя от одной до двух деталей: 0.46\n"
     ]
    }
   ],
   "source": [
    "# Все детали \n",
    "p_all_det = 0.1 * 0.2 * 0.25\n",
    "print(f\"Вероятность того, что в первый месяц выйдут из строя все детали: {p_all_det:.2f}\")\n",
    "\n",
    "# 2 детали => возможно 3 ситуации:\n",
    "# 1) 2 первые детали\n",
    "# 2) 2 последние детали\n",
    "# 3) 1 и 3 деталь\n",
    "p_2_first = 0.1 * 0.2 * 0.75\n",
    "p_2_last = 0.9 * 0.2 * 0.25\n",
    "p_extremums = 0.1 * 0.8 * 0.25\n",
    "p_two_det = p_2_first + p_2_last + p_extremums\n",
    "print(f\"Вероятность того, что в первый месяц выйдут из строя только две детали: {p_two_det:.2f}\")\n",
    "\n",
    "# Хотя бы одна деталь\n",
    "p_at_least_one = 1 - 0.9 * 0.8 * 0.75\n",
    "print(f\"Вероятность того, что в первый месяц выйдет из строя хотя бы одна деталь: {p_at_least_one:.2f}\")\n",
    "\n",
    "# От одной до двух деталей\n",
    "# Возможны 6 ситуаций, 3 из которых относятся к тем, где не работают 2 детали, но они уже посчитаны\n",
    "# => 1) 1 деталь не работает; 2) 2 деталь не работает; 3) 3 деталь не работает\n",
    "p_1_det = 0.1 * 0.8 * 0.75\n",
    "p_2_det = 0.9 * 0.2 * 0.75\n",
    "p_3_det = 0.9 * 0.8 * 0.25\n",
    "p_one_det = p_1_det + p_2_det + p_3_det\n",
    "p_from_1_to_2 = p_one_det + p_two_det\n",
    "print(f\"Вероятность того, что в первый месяц выйдут из строя от одной до двух деталей: {p_from_1_to_2:.2f}\")"
   ]
  }
 ],
 "metadata": {
  "kernelspec": {
   "display_name": "Python 3",
   "language": "python",
   "name": "python3"
  },
  "language_info": {
   "codemirror_mode": {
    "name": "ipython",
    "version": 3
   },
   "file_extension": ".py",
   "mimetype": "text/x-python",
   "name": "python",
   "nbconvert_exporter": "python",
   "pygments_lexer": "ipython3",
   "version": "3.8.5"
  }
 },
 "nbformat": 4,
 "nbformat_minor": 4
}
