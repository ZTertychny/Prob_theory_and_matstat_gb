{
 "cells": [
  {
   "cell_type": "code",
   "execution_count": 13,
   "metadata": {},
   "outputs": [],
   "source": [
    "import numpy as np"
   ]
  },
  {
   "cell_type": "markdown",
   "metadata": {},
   "source": [
    "#### Провести дисперсионный анализ для определения того, есть ли различия среднего роста среди взрослых футболистов, хоккеистов и штангистов. Даны значения роста в трех группах случайно выбранных спортсменов: Футболисты: 173, 175, 180, 178, 177, 185, 183, 182. Хоккеисты: 177, 179, 180, 188, 177, 172, 171, 184, 180. Штангисты: 172, 173, 169, 177, 166, 180, 178, 177, 172, 166, 170."
   ]
  },
  {
   "cell_type": "code",
   "execution_count": 32,
   "metadata": {},
   "outputs": [
    {
     "name": "stdout",
     "output_type": "stream",
     "text": [
      "Так как F_visible > F_table, то значение расчетного критерия падает в поле H1 гипотезы,т.е. различие существенно\n"
     ]
    }
   ],
   "source": [
    "football = np.array([173, 175, 180, 178, 177, 185, 183, 182])\n",
    "hockey = np.array([177, 179, 180, 188, 177, 172, 171, 184, 180])\n",
    "lifter = np.array([172, 173, 169, 177, 166, 180, 178, 177, 172, 166, 170])\n",
    "Y_gen = np.hstack((football, hockey, lifter))\n",
    "\n",
    "y1_mean = football.mean()\n",
    "y2_mean = hockey.mean()\n",
    "y3_mean = lifter.mean()\n",
    "all_mean = Y_gen.mean()\n",
    "\n",
    "S_factor = pow((y1_mean - all_mean), 2) * len(football) + pow((y2_mean - all_mean), 2) * len(hockey) + \\\n",
    "           pow((y3_mean - all_mean), 2) * len(lifter)\n",
    "S_remain = sum((football - y1_mean) ** 2) + sum((hockey - y2_mean) ** 2) + sum((lifter - y3_mean) ** 2)\n",
    "\n",
    "\n",
    "var_factor = S_factor / (3 - 1)\n",
    "var_remain = S_remain / (len(Y_gen) - 3)\n",
    "\n",
    "F_visible = var_factor / var_remain\n",
    "F_table = 3.38  # при альфе, равной 5%, степени свободы числителя 2, а знаменателя 25\n",
    "\n",
    "F_visible > F_table\n",
    "print(f\"Так как F_visible > F_table, то значение расчетного критерия падает в поле H1 гипотезы,\"\n",
    "      f\"т.е. различие существенно\")"
   ]
  }
 ],
 "metadata": {
  "kernelspec": {
   "display_name": "Python 3",
   "language": "python",
   "name": "python3"
  },
  "language_info": {
   "codemirror_mode": {
    "name": "ipython",
    "version": 3
   },
   "file_extension": ".py",
   "mimetype": "text/x-python",
   "name": "python",
   "nbconvert_exporter": "python",
   "pygments_lexer": "ipython3",
   "version": "3.8.5"
  }
 },
 "nbformat": 4,
 "nbformat_minor": 4
}
